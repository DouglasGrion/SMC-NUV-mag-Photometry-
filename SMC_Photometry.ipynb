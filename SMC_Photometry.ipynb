{
 "cells": [
  {
   "cell_type": "code",
   "execution_count": 2,
   "metadata": {
    "collapsed": false
   },
   "outputs": [
    {
     "name": "stdout",
     "output_type": "stream",
     "text": [
      "         Names_1          _RAJ2000 _DEJ2000 ...  PA     Com         SimbadName  \n",
      "------------------------- -------- -------- ... --- ------------ ---------------\n",
      "  NGC220,K18,L22,ESO29SC3  10.1292 -73.4028 ...  --   mT,in H-A3         NGC 220\n",
      "                      B27   10.175 -73.8722 ...  --           --        Bruck 27\n",
      "  NGC222,K19,L24,ESO29SC4  10.1833 -73.3833 ...  --   mT,in H-A3         NGC 222\n",
      "          B23,SMC_OGLE170  10.2292 -73.4019 ...  40   mT,in H-A3        Bruck 23\n",
      "  NGC231,K20,L25,ESO29SC5   10.275 -73.3519 ...  --   mP,in H-A3         NGC 231\n",
      "       K21,L27,SMC_OGLE12    10.35 -72.8908 ...  --           --      Cl Kron 21\n",
      "              SMC_OGLE166  10.4833 -73.4878 ...  80           -- OGLE-Cl SMC 166\n",
      "          HW16,SMC_OGLE13  10.5917 -73.7342 ...  --  mP,in DEMS7           HW 16\n",
      "        NGC241,K22w,L29W,  10.8875 -73.4403 ...  -- mP & SOGLE17         NGC 241\n",
      "           B33,SMC_OGLE23  11.0542 -73.6189 ...  --           --        Bruck 33\n",
      "                      ...      ...      ... ... ...          ...             ...\n",
      "                     HW72   18.925 -73.1664 ...  80   in DEMS157           HW 72\n",
      "                     HW74     19.2   -73.16 ... 150   in DEMS158           HW 74\n",
      "                     HW75  19.3708 -73.5692 ... 170           --           HW 75\n",
      " IC1626,K53,L77,ESO29SC30  16.5542 -73.2969 ...  --           --          IC1626\n",
      "                     HW52  16.7375 -73.2358 ...  --           --           HW 52\n",
      "      K55,L81,SMC_OGLE157  16.8833 -73.1197 ...  --           --      Cl Kron 55\n",
      "                  K57,L86  17.0583 -73.2572 ...  50           --      Cl Kron 57\n",
      "NGC419,K58,L85,ESO29SC33,  17.0792 -72.8842 ...  --   & SOGLE159         NGC 419\n",
      "          K61,SMC_OGLE161  17.2625 -73.0867 ...  --           --      Cl Kron 61\n",
      "                      L91  18.2125 -73.1194 ...  --           --   Cl Lindsay 91\n",
      "                   HW71se  18.8875 -72.3806 ... 170           mP    Name HW 71SE\n",
      "Length = 161 rows\n"
     ]
    }
   ],
   "source": [
    "from astropy.io import fits as pyfits\n",
    "import numpy as np\n",
    "SMC = pyfits.getdata('C:/Users/dougl/Desktop/smcw2-nd-intbgsub.fits')\n",
    "import matplotlib.pyplot as plt\n",
    "%matplotlib inline\n",
    "from astropy.stats import sigma_clipped_stats\n",
    "from astropy import units as u\n",
    "from astropy.coordinates import SkyCoord\n",
    "from photutils import SkyCircularAperture\n",
    "from astropy.io import ascii\n",
    "data = ascii.read(\"C:/Users/dougl/Desktop/star_clusters_SMC.csv\", format='csv', fast_reader=False)\n",
    "print(data)"
   ]
  },
  {
   "cell_type": "code",
   "execution_count": 6,
   "metadata": {
    "collapsed": false
   },
   "outputs": [
    {
     "name": "stdout",
     "output_type": "stream",
     "text": [
      "Filename: C:/Users/dougl/Desktop/smcw2-nd-intbgsub.fits\n",
      "No.    Name         Type      Cards   Dimensions   Format\n",
      "  0  PRIMARY     PrimaryHDU      18   (27207, 20790)   float32   \n"
     ]
    },
    {
     "name": "stderr",
     "output_type": "stream",
     "text": [
      "WARNING: Unexpected extra padding at the end of the file.  This padding may not be preserved when saving changes. [astropy.io.fits.header]\n"
     ]
    }
   ],
   "source": [
    "from astropy import units as u\n",
    "from astropy.coordinates import SkyCoord\n",
    "from photutils import SkyCircularAperture, SkyCircularAnnulus, aperture_photometry\n",
    "from astropy.wcs import WCS\n",
    "hdu = pyfits.open('C:/Users/dougl/Desktop/smcw2-nd-intbgsub.fits', ignore_missing_end=True)\n",
    "w = WCS(hdu[0].header)\n",
    "hdu.info()"
   ]
  },
  {
   "cell_type": "code",
   "execution_count": 70,
   "metadata": {
    "collapsed": false,
    "scrolled": false
   },
   "outputs": [
    {
     "name": "stdout",
     "output_type": "stream",
     "text": [
      "[553.89677806746283, 17.260158307404726, 363.67726605070499, 150.40839083009803, 704.56128839476423, 53.750888421044969, 42.443942634107771, 262.98157677216284, 282.78621880591834, 17.0465795206105, 88.96993374407262, 137.78719893235996, 9.027491049652367, 20.699373581940371, 189.96333731526065, 185.93752571045945, 23.52330432183075, 71.776879616873799, 201.71725286177588, 89.304149846169224, 9.168968845066491, 109.43464984611138, 73.009528862791143, 2.879383590895229, 62.773162107937203, 211.70638386317538, 138.17685524995738, 376.56963679249367, 91.487256383916659, 28.91699033608722, 278.41366213512742, 122.66425817934804, 61.260546306584203, 123.66948116350579, 129.77977173270418, 417.67244122225406, 134.56700890372719, 83.059162968711718, 45.634551742821088, 262.10913205765297, 28.865385829751915, 137.61315874168815, 88.124597536213827, 69.631677148970937, 222.03171309834352, 58.731011918712326, 28.016988854151673, 750.17081173725251, 174.40618206677422, 497.36151532943529, 13.366304656407507, 35.359674629984411, 21.563840388921339, 151.30249615123563, 96.392354271612547, 5.9565801785966404, 8.0553315199531887, 2.6036539729152079, 8.2279684153736348, 22.097857561267311, 14.860374052070753, 10.952440063683319, 20.282112864275462, 53.465224360315702, 146.59445790627564, 107.44018598985735, 139.76317926290346, 36.484336217378527, 76.506295519966145, 43.181105628126922, 15.224636528453154, 43.348204958099586, 20.47363345197634, 1.1018014500116342, 500.31145947671018, 9.8099856611982261, 156.06782480347951, 7053.5284485437396, 171.7481637001008, 1033.0140810115636, 118.51029712401336, 161.01666603090689, 47.844984329993267, 478.57843417681028, 137.44390007689586, 149.67303584059798, 45.487154384420563, 392.21451252479045, 275.71437897594888, 12.934199584745485, 227.73299345844453, 51.198069269606194, 13.928096405083515, 24.718436399548771, 111.73457794214848, 748.7479326208686, 129.09949966278202, 521.72254347044623, 418.76615435023285, 2354.3093580700852, 83.616744836825049, 980.25966334648081, 408.89986160808832, 63.672824658564167, 1037.0865979440409, 325.57366897703383, 280.13527800916245, 93.934058449509394, 252.22346843271993, 102.09707198595292, 51.045133658127583, 66.620937087220781, 13.68213551663065, 231.09869456413355, 107.24563996311761, 1.0715608754609527, 11.310944835929192, 18.491376338058462, 582.65975575782136, 113.59127064955507, 79.139807944530716, 324.03019116799089, 4.363698369849395, 171.87557260867135, 187.73160888787794, 192.29930170549656, 52.363305759640198, 344.15043390994492, 154.0251860029847, 105.68025542668985, 118.88955556043607, 596.34711250477699, 683.68373385407415, 38.25044716376955, 133.09342296912791, 25.774971084837428, 4.2216346096199429, 2.3269706461590625, 44.848947388611627, 26.043049247880571, 24.61381722605698, 17.874663860284798, 45.935646421968734, 71.672638365468742, 334.26540504951527, 11.564446008883973, 19.314201367056921, 202.97639957024006, 16.183775805476124, 16.797506204447529, 151.8913441661868, 256.61810025981532, 71.049869220221609, 93.706632785124498, 79.510277205868022, 23.978005040571801, 22.74139700520125, 477.87978594219464, 119.6351388577485, 28.895400837454485]\n"
     ]
    }
   ],
   "source": [
    "positions = SkyCoord(ra=data['_RAJ2000'] * u.deg, dec=data['_DEJ2000'] * u.deg, frame='fk5')\n",
    "r=data['R_ap'] * u.arcsec\n",
    "\n",
    "Real_phot_table = []\n",
    "\n",
    "for i in range(0, 160):\n",
    "    apertures = SkyCircularAperture(positions[i], r[i])\n",
    "    Fake_phot_table = aperture_photometry(hdu[0], apertures)\n",
    "    Real_phot_table.append(Fake_phot_table['aperture_sum'][0])\n",
    "    \n",
    "print(Real_phot_table)"
   ]
  },
  {
   "cell_type": "code",
   "execution_count": null,
   "metadata": {
    "collapsed": true
   },
   "outputs": [],
   "source": []
  }
 ],
 "metadata": {
  "kernelspec": {
   "display_name": "Python 3",
   "language": "python",
   "name": "python3"
  },
  "language_info": {
   "codemirror_mode": {
    "name": "ipython",
    "version": 3
   },
   "file_extension": ".py",
   "mimetype": "text/x-python",
   "name": "python",
   "nbconvert_exporter": "python",
   "pygments_lexer": "ipython3",
   "version": "3.6.0"
  }
 },
 "nbformat": 4,
 "nbformat_minor": 2
}

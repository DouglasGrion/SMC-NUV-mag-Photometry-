{
 "cells": [
  {
   "cell_type": "code",
   "execution_count": 2,
   "metadata": {
    "collapsed": false
   },
   "outputs": [
    {
     "name": "stdout",
     "output_type": "stream",
     "text": [
      "         Names_1          _RAJ2000 _DEJ2000 ...  PA     Com         SimbadName  \n",
      "------------------------- -------- -------- ... --- ------------ ---------------\n",
      "  NGC220,K18,L22,ESO29SC3  10.1292 -73.4028 ...  --   mT,in H-A3         NGC 220\n",
      "                      B27   10.175 -73.8722 ...  --           --        Bruck 27\n",
      "  NGC222,K19,L24,ESO29SC4  10.1833 -73.3833 ...  --   mT,in H-A3         NGC 222\n",
      "          B23,SMC_OGLE170  10.2292 -73.4019 ...  40   mT,in H-A3        Bruck 23\n",
      "  NGC231,K20,L25,ESO29SC5   10.275 -73.3519 ...  --   mP,in H-A3         NGC 231\n",
      "       K21,L27,SMC_OGLE12    10.35 -72.8908 ...  --           --      Cl Kron 21\n",
      "              SMC_OGLE166  10.4833 -73.4878 ...  80           -- OGLE-Cl SMC 166\n",
      "          HW16,SMC_OGLE13  10.5917 -73.7342 ...  --  mP,in DEMS7           HW 16\n",
      "        NGC241,K22w,L29W,  10.8875 -73.4403 ...  -- mP & SOGLE17         NGC 241\n",
      "           B33,SMC_OGLE23  11.0542 -73.6189 ...  --           --        Bruck 33\n",
      "                      ...      ...      ... ... ...          ...             ...\n",
      "                     HW72   18.925 -73.1664 ...  80   in DEMS157           HW 72\n",
      "                     HW74     19.2   -73.16 ... 150   in DEMS158           HW 74\n",
      "                     HW75  19.3708 -73.5692 ... 170           --           HW 75\n",
      " IC1626,K53,L77,ESO29SC30  16.5542 -73.2969 ...  --           --          IC1626\n",
      "                     HW52  16.7375 -73.2358 ...  --           --           HW 52\n",
      "      K55,L81,SMC_OGLE157  16.8833 -73.1197 ...  --           --      Cl Kron 55\n",
      "                  K57,L86  17.0583 -73.2572 ...  50           --      Cl Kron 57\n",
      "NGC419,K58,L85,ESO29SC33,  17.0792 -72.8842 ...  --   & SOGLE159         NGC 419\n",
      "          K61,SMC_OGLE161  17.2625 -73.0867 ...  --           --      Cl Kron 61\n",
      "                      L91  18.2125 -73.1194 ...  --           --   Cl Lindsay 91\n",
      "                   HW71se  18.8875 -72.3806 ... 170           mP    Name HW 71SE\n",
      "Length = 161 rows\n"
     ]
    }
   ],
   "source": [
    "from astropy.io import fits as pyfits\n",
    "import numpy as np\n",
    "SMC = pyfits.getdata('C:/Users/dougl/Desktop/smcw2-nd-intbgsub.fits')\n",
    "import matplotlib.pyplot as plt\n",
    "%matplotlib inline\n",
    "from astropy.stats import sigma_clipped_stats\n",
    "from astropy import units as u\n",
    "from astropy.coordinates import SkyCoord\n",
    "from photutils import SkyCircularAperture\n",
    "from astropy.io import ascii\n",
    "data = ascii.read(\"C:/Users/dougl/Desktop/star_clusters_SMC.csv\", format='csv', fast_reader=False)\n",
    "print(data)"
   ]
  },
  {
   "cell_type": "code",
   "execution_count": 6,
   "metadata": {
    "collapsed": false
   },
   "outputs": [
    {
     "name": "stdout",
     "output_type": "stream",
     "text": [
      "Filename: C:/Users/dougl/Desktop/smcw2-nd-intbgsub.fits\n",
      "No.    Name         Type      Cards   Dimensions   Format\n",
      "  0  PRIMARY     PrimaryHDU      18   (27207, 20790)   float32   \n"
     ]
    },
    {
     "name": "stderr",
     "output_type": "stream",
     "text": [
      "WARNING: Unexpected extra padding at the end of the file.  This padding may not be preserved when saving changes. [astropy.io.fits.header]\n"
     ]
    }
   ],
   "source": [
    "from astropy import units as u\n",
    "from astropy.coordinates import SkyCoord\n",
    "from photutils import SkyCircularAperture, SkyCircularAnnulus, aperture_photometry\n",
    "from astropy.wcs import WCS\n",
    "hdu = pyfits.open('C:/Users/dougl/Desktop/smcw2-nd-intbgsub.fits', ignore_missing_end=True)\n",
    "w = WCS(hdu[0].header)\n",
    "hdu.info()"
   ]
  },
  {
   "cell_type": "code",
   "execution_count": 50,
   "metadata": {
    "collapsed": false,
    "scrolled": false
   },
   "outputs": [
    {
     "ename": "ValueError",
     "evalue": "Input apertures must all have identical positions.",
     "output_type": "error",
     "traceback": [
      "\u001b[0;31m---------------------------------------------------------------------------\u001b[0m",
      "\u001b[0;31mValueError\u001b[0m                                Traceback (most recent call last)",
      "\u001b[0;32m<ipython-input-50-3f4ccd2a72f2>\u001b[0m in \u001b[0;36m<module>\u001b[0;34m()\u001b[0m\n\u001b[1;32m     13\u001b[0m \u001b[1;31m#print(apers)\u001b[0m\u001b[1;33m\u001b[0m\u001b[1;33m\u001b[0m\u001b[0m\n\u001b[1;32m     14\u001b[0m \u001b[1;33m\u001b[0m\u001b[0m\n\u001b[0;32m---> 15\u001b[0;31m \u001b[0mphot_table\u001b[0m \u001b[1;33m=\u001b[0m \u001b[0maperture_photometry\u001b[0m\u001b[1;33m(\u001b[0m\u001b[0mhdu\u001b[0m\u001b[1;33m[\u001b[0m\u001b[1;36m0\u001b[0m\u001b[1;33m]\u001b[0m\u001b[1;33m,\u001b[0m \u001b[0mapers\u001b[0m\u001b[1;33m)\u001b[0m\u001b[1;33m\u001b[0m\u001b[0m\n\u001b[0m\u001b[1;32m     16\u001b[0m \u001b[0mprint\u001b[0m\u001b[1;33m(\u001b[0m\u001b[0mphot_table\u001b[0m\u001b[1;33m)\u001b[0m\u001b[1;33m\u001b[0m\u001b[0m\n",
      "\u001b[0;32mC:\\Users\\dougl\\Anaconda3\\lib\\site-packages\\astropy\\utils\\decorators.py\u001b[0m in \u001b[0;36maperture_photometry\u001b[0;34m(data, apertures, error, pixelwise_error, mask, method, subpixels, unit, wcs)\u001b[0m\n\u001b[1;32m    872\u001b[0m             \u001b[0mname\u001b[0m \u001b[1;33m=\u001b[0m \u001b[0mfunc\u001b[0m\u001b[1;33m.\u001b[0m\u001b[0m__name__\u001b[0m\u001b[1;33m\u001b[0m\u001b[0m\n\u001b[1;32m    873\u001b[0m \u001b[1;33m\u001b[0m\u001b[0m\n\u001b[0;32m--> 874\u001b[0;31m         \u001b[0mfunc\u001b[0m \u001b[1;33m=\u001b[0m \u001b[0mmake_function_with_signature\u001b[0m\u001b[1;33m(\u001b[0m\u001b[0mfunc\u001b[0m\u001b[1;33m,\u001b[0m \u001b[0mname\u001b[0m\u001b[1;33m=\u001b[0m\u001b[0mname\u001b[0m\u001b[1;33m,\u001b[0m \u001b[1;33m**\u001b[0m\u001b[0mwrapped_args\u001b[0m\u001b[1;33m)\u001b[0m\u001b[1;33m\u001b[0m\u001b[0m\n\u001b[0m\u001b[1;32m    875\u001b[0m         func = functools.update_wrapper(func, wrapped, assigned=assigned,\n\u001b[1;32m    876\u001b[0m                                         updated=updated)\n",
      "\u001b[0;32mC:\\Users\\dougl\\Anaconda3\\lib\\site-packages\\astropy\\nddata\\decorators.py\u001b[0m in \u001b[0;36mwrapper\u001b[0;34m(data, *args, **kwargs)\u001b[0m\n\u001b[1;32m    247\u001b[0m                                   AstropyUserWarning)\n\u001b[1;32m    248\u001b[0m \u001b[1;33m\u001b[0m\u001b[0m\n\u001b[0;32m--> 249\u001b[0;31m             \u001b[0mresult\u001b[0m \u001b[1;33m=\u001b[0m \u001b[0mfunc\u001b[0m\u001b[1;33m(\u001b[0m\u001b[0mdata\u001b[0m\u001b[1;33m,\u001b[0m \u001b[1;33m*\u001b[0m\u001b[0margs\u001b[0m\u001b[1;33m,\u001b[0m \u001b[1;33m**\u001b[0m\u001b[0mkwargs\u001b[0m\u001b[1;33m)\u001b[0m\u001b[1;33m\u001b[0m\u001b[0m\n\u001b[0m\u001b[1;32m    250\u001b[0m \u001b[1;33m\u001b[0m\u001b[0m\n\u001b[1;32m    251\u001b[0m             \u001b[1;32mif\u001b[0m \u001b[0munpack\u001b[0m \u001b[1;32mand\u001b[0m \u001b[0mrepack\u001b[0m\u001b[1;33m:\u001b[0m\u001b[1;33m\u001b[0m\u001b[0m\n",
      "\u001b[0;32mC:\\Users\\dougl\\Anaconda3\\lib\\site-packages\\photutils\\aperture\\core.py\u001b[0m in \u001b[0;36maperture_photometry\u001b[0;34m(data, apertures, error, pixelwise_error, mask, method, subpixels, unit, wcs)\u001b[0m\n\u001b[1;32m    967\u001b[0m     \u001b[1;32mfor\u001b[0m \u001b[0maper\u001b[0m \u001b[1;32min\u001b[0m \u001b[0mapertures\u001b[0m\u001b[1;33m[\u001b[0m\u001b[1;36m1\u001b[0m\u001b[1;33m:\u001b[0m\u001b[1;33m]\u001b[0m\u001b[1;33m:\u001b[0m\u001b[1;33m\u001b[0m\u001b[0m\n\u001b[1;32m    968\u001b[0m         \u001b[1;32mif\u001b[0m \u001b[1;32mnot\u001b[0m \u001b[0mnp\u001b[0m\u001b[1;33m.\u001b[0m\u001b[0marray_equal\u001b[0m\u001b[1;33m(\u001b[0m\u001b[0maper\u001b[0m\u001b[1;33m.\u001b[0m\u001b[0mpositions\u001b[0m\u001b[1;33m,\u001b[0m \u001b[0mpositions\u001b[0m\u001b[1;33m)\u001b[0m\u001b[1;33m:\u001b[0m\u001b[1;33m\u001b[0m\u001b[0m\n\u001b[0;32m--> 969\u001b[0;31m             raise ValueError('Input apertures must all have identical '\n\u001b[0m\u001b[1;32m    970\u001b[0m                              'positions.')\n\u001b[1;32m    971\u001b[0m \u001b[1;33m\u001b[0m\u001b[0m\n",
      "\u001b[0;31mValueError\u001b[0m: Input apertures must all have identical positions."
     ]
    }
   ],
   "source": [
    "positions = SkyCoord(ra=data['_RAJ2000'] * u.deg, dec=data['_DEJ2000'] * u.deg, frame='fk5')\n",
    "r=data['R_ap'] * u.arcsec\n",
    "\n",
    "apers = []\n",
    "\n",
    "for i in range(0, 160):\n",
    "    apertures = SkyCircularAperture(positions[i], r[i])\n",
    "    pixel_apertures = apertures.to_pixel(w,mode='wcs')\n",
    "    apers.append(pixel_apertures)\n",
    "\n",
    "#pixel_apers = apers.to_pixel(w,mode='wcs')\n",
    "\n",
    "#print(apers)\n",
    "\n",
    "phot_table = aperture_photometry(hdu[0], apers)\n",
    "print(phot_table)"
   ]
  },
  {
   "cell_type": "code",
   "execution_count": null,
   "metadata": {
    "collapsed": true
   },
   "outputs": [],
   "source": []
  }
 ],
 "metadata": {
  "kernelspec": {
   "display_name": "Python 3",
   "language": "python",
   "name": "python3"
  },
  "language_info": {
   "codemirror_mode": {
    "name": "ipython",
    "version": 3
   },
   "file_extension": ".py",
   "mimetype": "text/x-python",
   "name": "python",
   "nbconvert_exporter": "python",
   "pygments_lexer": "ipython3",
   "version": "3.6.0"
  }
 },
 "nbformat": 4,
 "nbformat_minor": 2
}

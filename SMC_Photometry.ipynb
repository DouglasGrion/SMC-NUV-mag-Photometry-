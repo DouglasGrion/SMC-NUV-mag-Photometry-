{
 "cells": [
  {
   "cell_type": "code",
   "execution_count": 2,
   "metadata": {
    "collapsed": false
   },
   "outputs": [
    {
     "name": "stdout",
     "output_type": "stream",
     "text": [
      "         Names_1          _RAJ2000 _DEJ2000 ...  PA     Com         SimbadName  \n",
      "------------------------- -------- -------- ... --- ------------ ---------------\n",
      "  NGC220,K18,L22,ESO29SC3  10.1292 -73.4028 ...  --   mT,in H-A3         NGC 220\n",
      "                      B27   10.175 -73.8722 ...  --           --        Bruck 27\n",
      "  NGC222,K19,L24,ESO29SC4  10.1833 -73.3833 ...  --   mT,in H-A3         NGC 222\n",
      "          B23,SMC_OGLE170  10.2292 -73.4019 ...  40   mT,in H-A3        Bruck 23\n",
      "  NGC231,K20,L25,ESO29SC5   10.275 -73.3519 ...  --   mP,in H-A3         NGC 231\n",
      "       K21,L27,SMC_OGLE12    10.35 -72.8908 ...  --           --      Cl Kron 21\n",
      "              SMC_OGLE166  10.4833 -73.4878 ...  80           -- OGLE-Cl SMC 166\n",
      "          HW16,SMC_OGLE13  10.5917 -73.7342 ...  --  mP,in DEMS7           HW 16\n",
      "        NGC241,K22w,L29W,  10.8875 -73.4403 ...  -- mP & SOGLE17         NGC 241\n",
      "           B33,SMC_OGLE23  11.0542 -73.6189 ...  --           --        Bruck 33\n",
      "                      ...      ...      ... ... ...          ...             ...\n",
      "                     HW72   18.925 -73.1664 ...  80   in DEMS157           HW 72\n",
      "                     HW74     19.2   -73.16 ... 150   in DEMS158           HW 74\n",
      "                     HW75  19.3708 -73.5692 ... 170           --           HW 75\n",
      " IC1626,K53,L77,ESO29SC30  16.5542 -73.2969 ...  --           --          IC1626\n",
      "                     HW52  16.7375 -73.2358 ...  --           --           HW 52\n",
      "      K55,L81,SMC_OGLE157  16.8833 -73.1197 ...  --           --      Cl Kron 55\n",
      "                  K57,L86  17.0583 -73.2572 ...  50           --      Cl Kron 57\n",
      "NGC419,K58,L85,ESO29SC33,  17.0792 -72.8842 ...  --   & SOGLE159         NGC 419\n",
      "          K61,SMC_OGLE161  17.2625 -73.0867 ...  --           --      Cl Kron 61\n",
      "                      L91  18.2125 -73.1194 ...  --           --   Cl Lindsay 91\n",
      "                   HW71se  18.8875 -72.3806 ... 170           mP    Name HW 71SE\n",
      "Length = 161 rows\n"
     ]
    }
   ],
   "source": [
    "from astropy.io import fits as pyfits\n",
    "import numpy as np\n",
    "SMC = pyfits.getdata('C:/Users/dougl/Desktop/smcw2-nd-intbgsub.fits')\n",
    "import matplotlib.pyplot as plt\n",
    "%matplotlib inline\n",
    "from astropy.stats import sigma_clipped_stats\n",
    "from astropy import units as u\n",
    "from astropy.coordinates import SkyCoord\n",
    "from photutils import SkyCircularAperture\n",
    "from astropy.io import ascii\n",
    "data = ascii.read(\"C:/Users/dougl/Desktop/star_clusters_SMC.csv\", format='csv', fast_reader=False)\n",
    "print(data)"
   ]
  },
  {
   "cell_type": "code",
   "execution_count": 6,
   "metadata": {
    "collapsed": false
   },
   "outputs": [
    {
     "name": "stdout",
     "output_type": "stream",
     "text": [
      "Filename: C:/Users/dougl/Desktop/smcw2-nd-intbgsub.fits\n",
      "No.    Name         Type      Cards   Dimensions   Format\n",
      "  0  PRIMARY     PrimaryHDU      18   (27207, 20790)   float32   \n"
     ]
    },
    {
     "name": "stderr",
     "output_type": "stream",
     "text": [
      "WARNING: Unexpected extra padding at the end of the file.  This padding may not be preserved when saving changes. [astropy.io.fits.header]\n"
     ]
    }
   ],
   "source": [
    "from astropy import units as u\n",
    "from astropy.coordinates import SkyCoord\n",
    "from photutils import SkyCircularAperture, SkyCircularAnnulus, aperture_photometry\n",
    "from astropy.wcs import WCS\n",
    "hdu = pyfits.open('C:/Users/dougl/Desktop/smcw2-nd-intbgsub.fits', ignore_missing_end=True)\n",
    "w = WCS(hdu[0].header)\n",
    "hdu.info()"
   ]
  },
  {
   "cell_type": "code",
   "execution_count": 75,
   "metadata": {
    "collapsed": false,
    "scrolled": false
   },
   "outputs": [
    {
     "name": "stdout",
     "output_type": "stream",
     "text": [
      "[553.89677806746283, 17.260158307404726, 363.67726605070499, 150.40839083009803, 704.56128839476423, 53.750888421044969, 42.443942634107771, 262.98157677216284, 282.78621880591834, 17.0465795206105, 88.96993374407262, 137.78719893235996, 9.027491049652367, 20.699373581940371, 189.96333731526065, 185.93752571045945, 23.52330432183075, 71.776879616873799, 201.71725286177588, 89.304149846169224, 9.168968845066491, 109.43464984611138, 73.009528862791143, 2.879383590895229, 62.773162107937203, 211.70638386317538, 138.17685524995738, 376.56963679249367, 91.487256383916659, 28.91699033608722, 278.41366213512742, 122.66425817934804, 61.260546306584203, 123.66948116350579, 129.77977173270418, 417.67244122225406, 134.56700890372719, 83.059162968711718, 45.634551742821088, 262.10913205765297, 28.865385829751915, 137.61315874168815, 88.124597536213827, 69.631677148970937, 222.03171309834352, 58.731011918712326, 28.016988854151673, 750.17081173725251, 174.40618206677422, 497.36151532943529, 13.366304656407507, 35.359674629984411, 21.563840388921339, 151.30249615123563, 96.392354271612547, 5.9565801785966404, 8.0553315199531887, 2.6036539729152079, 8.2279684153736348, 22.097857561267311, 14.860374052070753, 10.952440063683319, 20.282112864275462, 53.465224360315702, 146.59445790627564, 107.44018598985735, 139.76317926290346, 36.484336217378527, 76.506295519966145, 43.181105628126922, 15.224636528453154, 43.348204958099586, 20.47363345197634, 1.1018014500116342, 500.31145947671018, 9.8099856611982261, 156.06782480347951, 7053.5284485437396, 171.7481637001008, 1033.0140810115636, 118.51029712401336, 161.01666603090689, 47.844984329993267, 478.57843417681028, 137.44390007689586, 149.67303584059798, 45.487154384420563, 392.21451252479045, 275.71437897594888, 12.934199584745485, 227.73299345844453, 51.198069269606194, 13.928096405083515, 24.718436399548771, 111.73457794214848, 748.7479326208686, 129.09949966278202, 521.72254347044623, 418.76615435023285, 2354.3093580700852, 83.616744836825049, 980.25966334648081, 408.89986160808832, 63.672824658564167, 1037.0865979440409, 325.57366897703383, 280.13527800916245, 93.934058449509394, 252.22346843271993, 102.09707198595292, 51.045133658127583, 66.620937087220781, 13.68213551663065, 231.09869456413355, 107.24563996311761, 1.0715608754609527, 11.310944835929192, 18.491376338058462, 582.65975575782136, 113.59127064955507, 79.139807944530716, 324.03019116799089, 4.363698369849395, 171.87557260867135, 187.73160888787794, 192.29930170549656, 52.363305759640198, 344.15043390994492, 154.0251860029847, 105.68025542668985, 118.88955556043607, 596.34711250477699, 683.68373385407415, 38.25044716376955, 133.09342296912791, 25.774971084837428, 4.2216346096199429, 2.3269706461590625, 44.848947388611627, 26.043049247880571, 24.61381722605698, 17.874663860284798, 45.935646421968734, 71.672638365468742, 334.26540504951527, 11.564446008883973, 19.314201367056921, 202.97639957024006, 16.183775805476124, 16.797506204447529, 151.8913441661868, 256.61810025981532, 71.049869220221609, 93.706632785124498, 79.510277205868022, 23.978005040571801, 22.74139700520125, 477.87978594219464, 119.6351388577485, 28.895400837454485]\n"
     ]
    }
   ],
   "source": [
    "positions = SkyCoord(ra=data['_RAJ2000'] * u.deg, dec=data['_DEJ2000'] * u.deg, frame='fk5')\n",
    "r=data['R_ap'] * u.arcsec\n",
    "\n",
    "Real_phot_table = []\n",
    "apertures_area = []\n",
    "for i in range(0, 160):\n",
    "    apertures = SkyCircularAperture(positions[i], r[i])\n",
    "    pixl_apertures = apertures.to_pixel(w)\n",
    "    apertures_area_loop = pixl_apertures.area()\n",
    "    Fake_phot_table = aperture_photometry(hdu[0], apertures)\n",
    "    Real_phot_table.append(Fake_phot_table['aperture_sum'][0])\n",
    "    apertures_area.append(apertures_area_loop)\n",
    "    \n",
    "print(Real_phot_table)"
   ]
  },
  {
   "cell_type": "code",
   "execution_count": 73,
   "metadata": {
    "collapsed": false
   },
   "outputs": [
    {
     "data": {
      "text/plain": [
       "SIMPLE  =                    T /                                                \n",
       "BITPIX  =                  -32 /                                                \n",
       "NAXIS   =                    2                                                  \n",
       "NAXIS1  =                27207                                                  \n",
       "NAXIS2  =                20790                                                  \n",
       "EXTEND  =                    T / FITS dataset may contain extensions            \n",
       "COMMENT   FITS (Flexible Image Transport System) format is defined in 'Astronomy\n",
       "COMMENT   and Astrophysics', volume 376, page 359; bibcode: 2001A&A...376..359H \n",
       "CTYPE1  = 'RA---TAN'                                                            \n",
       "CTYPE2  = 'DEC--TAN'                                                            \n",
       "EQUINOX =                 2000                                                  \n",
       "CRVAL1  =         16.727693126                                                  \n",
       "CRVAL2  =        -75.012761540                                                  \n",
       "CDELT1  =         -0.000416667                                                  \n",
       "CDELT2  =          0.000416667                                                  \n",
       "CRPIX1  =               13606.                                                  \n",
       "CRPIX2  =                5199.                                                  \n",
       "CROTA2  =          0.512432317                                                  "
      ]
     },
     "execution_count": 73,
     "metadata": {},
     "output_type": "execute_result"
    }
   ],
   "source": [
    "hdu[0].header"
   ]
  },
  {
   "cell_type": "code",
   "execution_count": 85,
   "metadata": {
    "collapsed": false
   },
   "outputs": [
    {
     "name": "stdout",
     "output_type": "stream",
     "text": [
      "[13.221427902675767, 16.987388063307957, 13.678209616055263, 14.636819837725936, 12.960203056230677, 15.754035882802111, 16.010460702789825, 14.030186687582081, 13.951354397746357, 17.000906878093708, 15.206891832127003, 14.731977821297379, 17.691082333710472, 16.790106993123779, 14.383325523118938, 14.406582381348509, 16.651254182261212, 15.440038564596996, 14.318142387558975, 15.202820898875576, 17.674198757356617, 14.982112868352386, 15.421551135231073, 18.931751186613429, 15.585564984592789, 14.265665114815086, 14.728911738985786, 13.640386751326014, 15.176598490724215, 16.42711727537041, 13.968273642801723, 14.858204908111713, 15.612047836450245, 14.849343653060647, 14.796982485123277, 13.527910448298471, 14.757653501975167, 15.281531124550462, 15.931765527706698, 14.033794619198193, 16.429056582801877, 14.733350090838684, 15.217257133531874, 15.472982860697716, 14.213962475585429, 15.657831290803941, 16.461446356627921, 12.892099594358381, 14.476095312414843, 13.338319556142689, 17.264971610707608, 16.208729349747838, 16.74568472847319, 14.63038476758636, 15.119893531148893, 18.142507520041583, 17.814791453343577, 19.041041835627379, 17.791768460240824, 16.719124575337286, 17.149925646912067, 17.481222786959222, 16.812217012215221, 15.759821515931515, 14.66470612038694, 15.002083121327249, 14.716518071997715, 16.17473387683458, 15.370757065805913, 15.991765604978571, 17.123632667192791, 15.987572204692782, 16.802012690838524, 19.974741651036627, 13.331898874060192, 17.6008290685193, 14.59671655641514, 10.458983944263025, 14.492769744101548, 12.544734396433419, 14.895609782576633, 14.562822924972201, 15.880408958300876, 13.38011718892529, 14.734686324740981, 14.642141080979528, 15.935278078006395, 13.596190852060509, 13.978851460260854, 17.300651104590067, 14.186435112977698, 15.806866040986511, 17.220270589640133, 16.597447511600141, 14.95953101784635, 12.894160909344937, 14.802688602198277, 13.286400992853384, 13.525071065649875, 11.650341177780554, 15.274266858375201, 12.601647169388139, 13.550957591080859, 15.570114708762059, 12.540462444998951, 13.798376815664007, 13.961580490347664, 15.147942283582847, 14.07553626609012, 15.057466781868365, 15.81011413669291, 15.520973157086178, 17.23961528089886, 14.1705062694177, 15.004050887215879, 20.004957879040699, 17.446252789213425, 16.912576906285636, 13.166462443859441, 14.941637605858189, 15.334012520022453, 13.80353630745569, 18.480363191518403, 14.491964604895106, 14.39615649466073, 14.370055732019505, 15.782432359282797, 13.738129196362529, 14.611020645185249, 15.0200153642818, 14.892140741117384, 13.141252198115545, 12.992861881687134, 16.123408708490125, 14.76960851343183, 16.552004533123004, 18.516298396005848, 19.163022737841992, 15.950619363639026, 16.540770419499307, 16.60205257162918, 16.949405291299172, 15.924625419266849, 15.44161652069184, 13.769771421467642, 17.422187917835963, 16.865308112539942, 14.311386138372855, 17.057300366238053, 17.01688797456017, 14.626167436441971, 14.056781786058954, 15.45109179282785, 15.150574168991078, 15.328941831021453, 16.63046738210797, 16.687957150240482, 13.38170334878396, 14.885353104994195, 16.427928191539834]\n"
     ]
    }
   ],
   "source": [
    "\n",
    "\n",
    "NUV_magnitude = []\n",
    "\n",
    "for j in range(0, 160):\n",
    "    mag_loop = (-2.5)*(np.log10(Real_phot_table[j]))+20.08\n",
    "    NUV_magnitude.append(mag_loop)\n",
    "\n",
    "\n",
    "print(NUV_magnitude)\n"
   ]
  },
  {
   "cell_type": "code",
   "execution_count": 125,
   "metadata": {
    "collapsed": false
   },
   "outputs": [
    {
     "name": "stdout",
     "output_type": "stream",
     "text": [
      "[ 13.2214279   16.98738806  13.67820962  14.63681984  12.96020306\n",
      "  15.75403588  16.0104607   14.03018669  13.9513544   17.00090688\n",
      "  15.20689183  14.73197782  17.69108233  16.79010699  14.38332552\n",
      "  14.40658238  16.65125418  15.44003856  14.31814239  15.2028209\n",
      "  17.67419876  14.98211287  15.42155114  18.93175119  15.58556498\n",
      "  14.26566511  14.72891174  13.64038675  15.17659849  16.42711728\n",
      "  13.96827364  14.85820491  15.61204784  14.84934365  14.79698249\n",
      "  13.52791045  14.7576535   15.28153112  15.93176553  14.03379462\n",
      "  16.42905658  14.73335009  15.21725713  15.47298286  14.21396248\n",
      "  15.65783129  16.46144636  12.89209959  14.47609531  13.33831956\n",
      "  17.26497161  16.20872935  16.74568473  14.63038477  15.11989353\n",
      "  18.14250752  17.81479145  19.04104184  17.79176846  16.71912458\n",
      "  17.14992565  17.48122279  16.81221701  15.75982152  14.66470612\n",
      "  15.00208312  14.71651807  16.17473388  15.37075707  15.9917656\n",
      "  17.12363267  15.9875722   16.80201269  19.97474165  13.33189887\n",
      "  17.60082907  14.59671656  10.45898394  14.49276974  12.5447344\n",
      "  14.89560978  14.56282292  15.88040896  13.38011719  14.73468632\n",
      "  14.64214108  15.93527808  13.59619085  13.97885146  17.3006511\n",
      "  14.18643511  15.80686604  17.22027059  16.59744751  14.95953102\n",
      "  12.89416091  14.8026886   13.28640099  13.52507107  11.65034118\n",
      "  15.27426686  12.60164717  13.55095759  15.57011471  12.54046244\n",
      "  13.79837682  13.96158049  15.14794228  14.07553627  15.05746678\n",
      "  15.81011414  15.52097316  17.23961528  14.17050627  15.00405089\n",
      "  20.00495788  17.44625279  16.91257691  13.16646244  14.94163761\n",
      "  15.33401252  13.80353631  18.48036319  14.4919646   14.39615649\n",
      "  14.37005573  15.78243236  13.7381292   14.61102065  15.02001536\n",
      "  14.89214074  13.1412522   12.99286188  16.12340871  14.76960851\n",
      "  16.55200453  18.5162984   19.16302274  15.95061936  16.54077042\n",
      "  16.60205257  16.94940529  15.92462542  15.44161652  13.76977142\n",
      "  17.42218792  16.86530811  14.31138614  17.05730037  17.01688797\n",
      "  14.62616744  14.05678179  15.45109179  15.15057417  15.32894183\n",
      "  16.63046738  16.68795715  13.38170335  14.8853531   16.42792819]\n"
     ]
    },
    {
     "data": {
      "image/png": "[encoded data removed]",
      "text/plain": [
       "<matplotlib.figure.Figure at 0x2403dc98fd0>"
      ]
     },
     "metadata": {},
     "output_type": "display_data"
    }
   ],
   "source": [
    "NUV_Mag2 = np.asarray(NUV_magnitude)\n",
    "NUV_Mag = NUV_Mag2.flatten()\n",
    "print(NUV_Mag)\n",
    "import matplotlib\n",
    "import matplotlib.pyplot as plt\n",
    "%matplotlib inline\n",
    "NBINS = 20\n",
    "from scipy.stats import norm\n",
    "import matplotlib.mlab as mlab\n",
    "import matplotlib.pyplot as plt\n",
    "(mu, sigma) = norm.fit(NUV_Mag)\n",
    "plt.hist(NUV_Mag, NBINS, normed=1)\n",
    "y = mlab.normpdf( NBINS, mu, sigma)\n",
    "l = plt.plot(NBINS, y, 'r--', linewidth=3)\n",
    "plt.xlabel(\"NUV-Mag\")\n",
    "plt.ylabel(\"Frequency\")\n",
    "plt.title(r'$\\mathrm{Histogram\\ of\\ NUV-mag:}\\ \\mu=%.3f,\\ \\sigma=%.3f$' %(mu, sigma))\n",
    "plt.grid(True)\n",
    "plt.show()"
   ]
  },
  {
   "cell_type": "code",
   "execution_count": null,
   "metadata": {
    "collapsed": true
   },
   "outputs": [],
   "source": [
    "\n"
   ]
  }
 ],
 "metadata": {
  "kernelspec": {
   "display_name": "Python 3",
   "language": "python",
   "name": "python3"
  },
  "language_info": {
   "codemirror_mode": {
    "name": "ipython",
    "version": 3
   },
   "file_extension": ".py",
   "mimetype": "text/x-python",
   "name": "python",
   "nbconvert_exporter": "python",
   "pygments_lexer": "ipython3",
   "version": "3.6.0"
  }
 },
 "nbformat": 4,
 "nbformat_minor": 2
}
